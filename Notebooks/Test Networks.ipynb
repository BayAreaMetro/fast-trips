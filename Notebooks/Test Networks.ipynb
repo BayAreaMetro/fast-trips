{
 "cells": [
  {
   "cell_type": "code",
   "execution_count": 73,
   "metadata": {
    "collapsed": true
   },
   "outputs": [],
   "source": [
    "import os\n",
    "\n",
    "import pandas as pd\n",
    "from pyproj import Proj,transform\n",
    "\n",
    "from bokeh.plotting import figure, show, output_notebook\n",
    "from bokeh.tile_providers import STAMEN_TONER\n",
    "from bokeh.models import ColumnDataSource, HoverTool, LabelSet"
   ]
  },
  {
   "cell_type": "code",
   "execution_count": 74,
   "metadata": {
    "collapsed": true
   },
   "outputs": [],
   "source": [
    "\n",
    "def convertCoords(row):\n",
    "    inProj  = Proj(init='epsg:4326')\n",
    "    outProj = Proj(init='epsg:3857')\n",
    "    x2,y2 = transform(inProj,outProj,row['stop_lon'],row['stop_lat'])\n",
    "    return pd.Series({'stop_m-lon':x2,'stop_m-lat':y2})\n",
    "\n",
    "\n",
    "def plot_stops(network_dir, stop_labels):\n",
    "\n",
    "    stoptimes_df      = pd.read_csv(os.path.join(network_dir, 'stop_times.txt'), usecols=['trip_id','stop_id','stop_sequence'])\n",
    "    stops_df          = pd.read_csv(os.path.join(network_dir, 'stops.txt'), usecols=['stop_id','stop_name','stop_lat','stop_lon'])\n",
    "    xy_merc           = stops_df.apply(convertCoords, axis=1)\n",
    "    stops_df          = pd.concat([stops_df, xy_merc], axis=1)\n",
    "    trip_stops_df     = pd.merge(stops_df, stoptimes_df, on='stop_id', how='left')\n",
    "    trip_count_df     = trip_stops_df.groupby(['stop_id']).size().reset_index(name='trips')\n",
    "    stops_size_df     = pd.merge(stops_df, trip_count_df, on='stop_id')\n",
    "    \n",
    "    size_factor       = stops_size_df['trips'].max()/70\n",
    "    if stops_size_df['trips'].max() < 10: size_factor = 0.05\n",
    "       \n",
    "    source = ColumnDataSource(data=dict(\n",
    "                         x    =list(stops_size_df['stop_m-lon']), \n",
    "                         y    =list(stops_size_df['stop_m-lat']),\n",
    "                         trips=list(stops_size_df['trips']),\n",
    "                         size =list(stops_size_df['trips']/size_factor),\n",
    "                         name =list(stops_size_df['stop_name'])))\n",
    "\n",
    "    hover = HoverTool(tooltips=[(\"stop\", \"@name\"),(\"trips\",\"@trips\") ])\n",
    "\n",
    "\n",
    "    p = figure(x_axis_type=\"mercator\", y_axis_type=\"mercator\")\n",
    "   # tools=[hover, pan, 'wheel_zoom','save']\n",
    "    p.add_tile(STAMEN_TONER)\n",
    "    \n",
    "    \n",
    "    p.circle(x = 'x',\n",
    "         y = 'y',\n",
    "         source = source,\n",
    "         size = 'size',\n",
    "         fill_color=\"#FF1493\",\n",
    "         line_color=\"#FF69B4\",\n",
    "         fill_alpha=0.15,\n",
    "         line_alpha=0.40)\n",
    "    \n",
    "    labels = LabelSet(x='x', y='y', text='name', level='glyph',text_color=\"#FF1493\",\n",
    "              x_offset=5, y_offset=5, source=source, render_mode='canvas')\n",
    "    \n",
    "    if stop_labels: p.add_layout(labels)\n",
    "    \n",
    "    return p\n"
   ]
  },
  {
   "cell_type": "code",
   "execution_count": 71,
   "metadata": {},
   "outputs": [
    {
     "data": {
      "application/vnd.jupyter.widget-view+json": {
       "model_id": "070eef4f45634e949378f86086d7d752",
       "version_major": 2,
       "version_minor": 0
      },
      "text/html": [
       "<p>Failed to display Jupyter Widget of type <code>interactive</code>.</p>\n",
       "<p>\n",
       "  If you're reading this message in Jupyter Notebook or JupyterLab, it may mean\n",
       "  that the widgets JavaScript is still loading. If this message persists, it\n",
       "  likely means that the widgets JavaScript library is either not installed or\n",
       "  not enabled. See the <a href=\"https://ipywidgets.readthedocs.io/en/stable/user_install.html\">Jupyter\n",
       "  Widgets Documentation</a> for setup instructions.\n",
       "</p>\n",
       "<p>\n",
       "  If you're reading this message in another notebook frontend (for example, a static\n",
       "  rendering on GitHub or <a href=\"https://nbviewer.jupyter.org/\">NBViewer</a>),\n",
       "  it may mean that your frontend doesn't currently support widgets.\n",
       "</p>\n"
      ],
      "text/plain": [
       "interactive(children=(Dropdown(description=u'network_dir', options=('simple', 'bunny_hop', 'psrc_1_1', 'many_bunny_hops'), value='simple'), Checkbox(value=False, description=u'stop_labels'), Output()), _dom_classes=('widget-interact',))"
      ]
     },
     "metadata": {},
     "output_type": "display_data"
    }
   ],
   "source": [
    "import ipywidgets as widgets\n",
    "\n",
    "HOME_DIR = os.path.join(os.getcwd(), '..', \"fasttrips\", \"Examples\",\"networks\" )\n",
    "\n",
    "@widgets.interact(network_dir = os.listdir(HOME_DIR),stop_labels=False)\n",
    "def plot_net(network_dir,stop_labels):\n",
    "    p = plot_stops(os.path.join(HOME_DIR,network_dir), stop_labels)\n",
    "    p.title.text = \"Example Network: \"+ network_dir\n",
    "    output_notebook()\n",
    "    show(p)"
   ]
  },
  {
   "cell_type": "code",
   "execution_count": 13,
   "metadata": {
    "collapsed": true
   },
   "outputs": [],
   "source": [
    "\n"
   ]
  },
  {
   "cell_type": "code",
   "execution_count": null,
   "metadata": {
    "collapsed": true
   },
   "outputs": [],
   "source": []
  }
 ],
 "metadata": {
  "kernelspec": {
   "display_name": "Python 2",
   "language": "python",
   "name": "python2"
  },
  "language_info": {
   "codemirror_mode": {
    "name": "ipython",
    "version": 2
   },
   "file_extension": ".py",
   "mimetype": "text/x-python",
   "name": "python",
   "nbconvert_exporter": "python",
   "pygments_lexer": "ipython2",
   "version": "2.7.13"
  }
 },
 "nbformat": 4,
 "nbformat_minor": 2
}
